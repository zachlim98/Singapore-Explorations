{
 "metadata": {
  "language_info": {
   "codemirror_mode": {
    "name": "ipython",
    "version": 3
   },
   "file_extension": ".py",
   "mimetype": "text/x-python",
   "name": "python",
   "nbconvert_exporter": "python",
   "pygments_lexer": "ipython3",
   "version": "3.8.5"
  },
  "orig_nbformat": 4,
  "kernelspec": {
   "name": "python3",
   "display_name": "Python 3.8.5 64-bit ('base': conda)"
  },
  "interpreter": {
   "hash": "048f1fa9a33d9a89442c8aba85d23c95ec4be7278da4853ec993d63bd37cc981"
  }
 },
 "nbformat": 4,
 "nbformat_minor": 2,
 "cells": [
  {
   "cell_type": "code",
   "execution_count": 20,
   "metadata": {},
   "outputs": [],
   "source": [
    "import urllib.request\n",
    "\n",
    "month_names = [str(x)+str(y).zfill(2) for x in range(2014,2021,1) for y in range(1,13,1)]\n",
    "\n",
    "for i,d in enumerate(month_names):\n",
    "    url = \"http://www.weather.gov.sg/files/dailydata/DAILYDATA_S24_\" + str(d) +\".csv\"\n",
    "    urllib.request.urlretrieve(url, \"./files/\" + str(i) + \".csv\")"
   ]
  },
  {
   "cell_type": "code",
   "execution_count": 1,
   "metadata": {},
   "outputs": [],
   "source": [
    "import os, glob\n",
    "import pandas as pd\n",
    "\n",
    "path = \"./files\"\n",
    "\n",
    "all_files = glob.glob(os.path.join(path, \"*.csv\"))\n",
    "df_from_each_file = [pd.read_csv(f, sep=',', encoding=\"latin1\").rename(columns={\"Mean Temperature (°C)\" : \"Mean Temp\"}).iloc[:,[1,2,3,4,8,11]] for f in all_files]\n",
    "df_merged = pd.concat(df_from_each_file, ignore_index=False)\n",
    "# df_merged.sort_values(by=\"Date\", inplace=True)\n",
    "df_merged[\"Mean Temp\"].update(df_merged.pop(\"Mean Temperature (Â°C)\"))\n",
    "df_merged[\"Date\"] = pd.to_datetime(df_merged[[\"Year\", \"Month\", \"Day\"]])"
   ]
  },
  {
   "cell_type": "code",
   "execution_count": 4,
   "metadata": {},
   "outputs": [],
   "source": [
    "df_merged[[\"Date\", \"Mean Temp\", \"Daily Rainfall Total (mm)\", \"Mean Wind Speed (km/h)\"]].to_csv(\"merged.csv\")"
   ]
  },
  {
   "cell_type": "code",
   "execution_count": 10,
   "metadata": {},
   "outputs": [
    {
     "output_type": "error",
     "ename": "ValueError",
     "evalue": "Unable to parse string \"\" at position 160",
     "traceback": [
      "\u001b[1;31m---------------------------------------------------------------------------\u001b[0m",
      "\u001b[1;31mValueError\u001b[0m                                Traceback (most recent call last)",
      "\u001b[1;32mpandas\\_libs\\lib.pyx\u001b[0m in \u001b[0;36mpandas._libs.lib.maybe_convert_numeric\u001b[1;34m()\u001b[0m\n",
      "\u001b[1;31mValueError\u001b[0m: Unable to parse string \"\"",
      "\nDuring handling of the above exception, another exception occurred:\n",
      "\u001b[1;31mValueError\u001b[0m                                Traceback (most recent call last)",
      "\u001b[1;32m<ipython-input-10-5ba2359221b9>\u001b[0m in \u001b[0;36m<module>\u001b[1;34m\u001b[0m\n\u001b[1;32m----> 1\u001b[1;33m \u001b[0mpd\u001b[0m\u001b[1;33m.\u001b[0m\u001b[0mto_numeric\u001b[0m\u001b[1;33m(\u001b[0m\u001b[0mdf_merged\u001b[0m\u001b[1;33m[\u001b[0m\u001b[1;34m\"Mean Wind Speed (km/h)\"\u001b[0m\u001b[1;33m]\u001b[0m\u001b[1;33m)\u001b[0m\u001b[1;33m\u001b[0m\u001b[1;33m\u001b[0m\u001b[0m\n\u001b[0m",
      "\u001b[1;32mX:\\Programs\\conda\\lib\\site-packages\\pandas\\core\\tools\\numeric.py\u001b[0m in \u001b[0;36mto_numeric\u001b[1;34m(arg, errors, downcast)\u001b[0m\n\u001b[0;32m    150\u001b[0m         \u001b[0mcoerce_numeric\u001b[0m \u001b[1;33m=\u001b[0m \u001b[0merrors\u001b[0m \u001b[1;32mnot\u001b[0m \u001b[1;32min\u001b[0m \u001b[1;33m(\u001b[0m\u001b[1;34m\"ignore\"\u001b[0m\u001b[1;33m,\u001b[0m \u001b[1;34m\"raise\"\u001b[0m\u001b[1;33m)\u001b[0m\u001b[1;33m\u001b[0m\u001b[1;33m\u001b[0m\u001b[0m\n\u001b[0;32m    151\u001b[0m         \u001b[1;32mtry\u001b[0m\u001b[1;33m:\u001b[0m\u001b[1;33m\u001b[0m\u001b[1;33m\u001b[0m\u001b[0m\n\u001b[1;32m--> 152\u001b[1;33m             values = lib.maybe_convert_numeric(\n\u001b[0m\u001b[0;32m    153\u001b[0m                 \u001b[0mvalues\u001b[0m\u001b[1;33m,\u001b[0m \u001b[0mset\u001b[0m\u001b[1;33m(\u001b[0m\u001b[1;33m)\u001b[0m\u001b[1;33m,\u001b[0m \u001b[0mcoerce_numeric\u001b[0m\u001b[1;33m=\u001b[0m\u001b[0mcoerce_numeric\u001b[0m\u001b[1;33m\u001b[0m\u001b[1;33m\u001b[0m\u001b[0m\n\u001b[0;32m    154\u001b[0m             )\n",
      "\u001b[1;32mpandas\\_libs\\lib.pyx\u001b[0m in \u001b[0;36mpandas._libs.lib.maybe_convert_numeric\u001b[1;34m()\u001b[0m\n",
      "\u001b[1;31mValueError\u001b[0m: Unable to parse string \"\" at position 160"
     ]
    }
   ],
   "source": [
    "pd.to_numeric(df_merged[\"Mean Wind Speed (km/h)\"])"
   ]
  },
  {
   "cell_type": "code",
   "execution_count": 20,
   "metadata": {},
   "outputs": [
    {
     "output_type": "execute_result",
     "data": {
      "text/plain": [
       "    Year  Month  Day  Daily Rainfall Total (mm)  Mean Temp  \\\n",
       "9   2015      2   10                        0.0       26.7   \n",
       "10  2015      2   11                        0.0       26.6   \n",
       "11  2015      2   12                        0.0       26.3   \n",
       "20  2016      9   21                        2.5       28.1   \n",
       "\n",
       "   Mean Wind Speed (km/h)       Date  \n",
       "9                        2015-02-10  \n",
       "10                       2015-02-11  \n",
       "11                       2015-02-12  \n",
       "20                       2016-09-21  "
      ],
      "text/html": "<div>\n<style scoped>\n    .dataframe tbody tr th:only-of-type {\n        vertical-align: middle;\n    }\n\n    .dataframe tbody tr th {\n        vertical-align: top;\n    }\n\n    .dataframe thead th {\n        text-align: right;\n    }\n</style>\n<table border=\"1\" class=\"dataframe\">\n  <thead>\n    <tr style=\"text-align: right;\">\n      <th></th>\n      <th>Year</th>\n      <th>Month</th>\n      <th>Day</th>\n      <th>Daily Rainfall Total (mm)</th>\n      <th>Mean Temp</th>\n      <th>Mean Wind Speed (km/h)</th>\n      <th>Date</th>\n    </tr>\n  </thead>\n  <tbody>\n    <tr>\n      <th>9</th>\n      <td>2015</td>\n      <td>2</td>\n      <td>10</td>\n      <td>0.0</td>\n      <td>26.7</td>\n      <td></td>\n      <td>2015-02-10</td>\n    </tr>\n    <tr>\n      <th>10</th>\n      <td>2015</td>\n      <td>2</td>\n      <td>11</td>\n      <td>0.0</td>\n      <td>26.6</td>\n      <td></td>\n      <td>2015-02-11</td>\n    </tr>\n    <tr>\n      <th>11</th>\n      <td>2015</td>\n      <td>2</td>\n      <td>12</td>\n      <td>0.0</td>\n      <td>26.3</td>\n      <td></td>\n      <td>2015-02-12</td>\n    </tr>\n    <tr>\n      <th>20</th>\n      <td>2016</td>\n      <td>9</td>\n      <td>21</td>\n      <td>2.5</td>\n      <td>28.1</td>\n      <td></td>\n      <td>2016-09-21</td>\n    </tr>\n  </tbody>\n</table>\n</div>"
     },
     "metadata": {},
     "execution_count": 20
    }
   ],
   "source": [
    "df_merged[df_merged[\"Mean Wind Speed (km/h)\"] == \"\\x97\"]"
   ]
  },
  {
   "cell_type": "code",
   "execution_count": null,
   "metadata": {},
   "outputs": [],
   "source": []
  }
 ]
}