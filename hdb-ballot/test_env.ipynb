{
 "metadata": {
  "language_info": {
   "codemirror_mode": {
    "name": "ipython",
    "version": 3
   },
   "file_extension": ".py",
   "mimetype": "text/x-python",
   "name": "python",
   "nbconvert_exporter": "python",
   "pygments_lexer": "ipython3",
   "version": "3.8.5"
  },
  "orig_nbformat": 2,
  "kernelspec": {
   "name": "python385jvsc74a57bd0048f1fa9a33d9a89442c8aba85d23c95ec4be7278da4853ec993d63bd37cc981",
   "display_name": "Python 3.8.5 64-bit ('base': conda)"
  }
 },
 "nbformat": 4,
 "nbformat_minor": 2,
 "cells": [
  {
   "cell_type": "code",
   "execution_count": 1,
   "metadata": {},
   "outputs": [],
   "source": [
    "import pandas as pd \n",
    "import numpy as np"
   ]
  },
  {
   "cell_type": "code",
   "execution_count": 12,
   "metadata": {},
   "outputs": [],
   "source": [
    "total_flats = 411\n",
    "PPS_flats = total_flats * 0.3\n",
    "MCPS_flats =total_flats * 0.3\n",
    "others_flats = total_flats * 0.25\n",
    "secondtimer_flats = total_flats* 0.15"
   ]
  },
  {
   "cell_type": "code",
   "execution_count": 4,
   "metadata": {},
   "outputs": [],
   "source": [
    "first_timer = 1326\n",
    "second_timer = 477\n",
    "\n",
    "PPS_app = 0.1 * first_timer\n",
    "MCPS_app = 0.36 * first_timer\n",
    "others_app = first_timer - PPS_app - MCPS_app"
   ]
  },
  {
   "cell_type": "code",
   "execution_count": 14,
   "metadata": {},
   "outputs": [
    {
     "output_type": "stream",
     "name": "stdout",
     "text": [
      "PPS prob: 1.0 \nMCPS prob: 0.258\nOthers prob: 0.096\nSecond Timer prob: 0.129\n"
     ]
    }
   ],
   "source": [
    "print(f\"PPS prob: {round(PPS_flats/PPS_app,0)} \\nMCPS prob: {round(MCPS_flats/MCPS_app,3)}\\nOthers prob: {round(others_flats/(others_app+MCPS_app-MCPS_flats), 3)}\\nSecond Timer prob: {round(secondtimer_flats/second_timer,3)}\")"
   ]
  },
  {
   "cell_type": "code",
   "execution_count": null,
   "metadata": {},
   "outputs": [],
   "source": []
  }
 ]
}